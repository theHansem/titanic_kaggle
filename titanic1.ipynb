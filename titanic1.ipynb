{
 "cells": [
  {
   "cell_type": "code",
   "execution_count": 1,
   "id": "3433925d",
   "metadata": {
    "_cell_guid": "b1076dfc-b9ad-4769-8c92-a6c4dae69d19",
    "_uuid": "8f2839f25d086af736a60e9eeb907d3b93b6e0e5",
    "execution": {
     "iopub.execute_input": "2022-09-19T14:40:06.554872Z",
     "iopub.status.busy": "2022-09-19T14:40:06.554342Z",
     "iopub.status.idle": "2022-09-19T14:40:06.568259Z",
     "shell.execute_reply": "2022-09-19T14:40:06.566896Z"
    },
    "jupyter": {
     "source_hidden": true
    },
    "papermill": {
     "duration": 0.023565,
     "end_time": "2022-09-19T14:40:06.571112",
     "exception": false,
     "start_time": "2022-09-19T14:40:06.547547",
     "status": "completed"
    },
    "tags": []
   },
   "outputs": [
    {
     "name": "stdout",
     "output_type": "stream",
     "text": [
      "/kaggle/input/titanic/train.csv\n",
      "/kaggle/input/titanic/test.csv\n",
      "/kaggle/input/titanic/gender_submission.csv\n"
     ]
    }
   ],
   "source": [
    "# This Python 3 environment comes with many helpful analytics libraries installed\n",
    "# It is defined by the kaggle/python Docker image: https://github.com/kaggle/docker-python\n",
    "# For example, here's several helpful packages to load\n",
    "\n",
    "import numpy as np # linear algebra\n",
    "import pandas as pd # data processing, CSV file I/O (e.g. pd.read_csv)\n",
    "\n",
    "# Input data files are available in the read-only \"../input/\" directory\n",
    "# For example, running this (by clicking run or pressing Shift+Enter) will list all files under the input directory\n",
    "\n",
    "import os\n",
    "for dirname, _, filenames in os.walk('/kaggle/input'):\n",
    "    for filename in filenames:\n",
    "        print(os.path.join(dirname, filename))\n",
    "\n",
    "# You can write up to 20GB to the current directory (/kaggle/working/) that gets preserved as output when you create a version using \"Save & Run All\" \n",
    "# You can also write temporary files to /kaggle/temp/, but they won't be saved outside of the current session"
   ]
  },
  {
   "cell_type": "code",
   "execution_count": 2,
   "id": "c7ff9985",
   "metadata": {
    "execution": {
     "iopub.execute_input": "2022-09-19T14:40:06.580972Z",
     "iopub.status.busy": "2022-09-19T14:40:06.580540Z",
     "iopub.status.idle": "2022-09-19T14:40:06.644580Z",
     "shell.execute_reply": "2022-09-19T14:40:06.643355Z"
    },
    "papermill": {
     "duration": 0.071762,
     "end_time": "2022-09-19T14:40:06.647184",
     "exception": false,
     "start_time": "2022-09-19T14:40:06.575422",
     "status": "completed"
    },
    "tags": []
   },
   "outputs": [
    {
     "data": {
      "text/html": [
       "<div>\n",
       "<style scoped>\n",
       "    .dataframe tbody tr th:only-of-type {\n",
       "        vertical-align: middle;\n",
       "    }\n",
       "\n",
       "    .dataframe tbody tr th {\n",
       "        vertical-align: top;\n",
       "    }\n",
       "\n",
       "    .dataframe thead th {\n",
       "        text-align: right;\n",
       "    }\n",
       "</style>\n",
       "<table border=\"1\" class=\"dataframe\">\n",
       "  <thead>\n",
       "    <tr style=\"text-align: right;\">\n",
       "      <th></th>\n",
       "      <th>Survived</th>\n",
       "      <th>Pclass</th>\n",
       "      <th>Name</th>\n",
       "      <th>Sex</th>\n",
       "      <th>Age</th>\n",
       "      <th>SibSp</th>\n",
       "      <th>Parch</th>\n",
       "      <th>Ticket</th>\n",
       "      <th>Fare</th>\n",
       "      <th>Cabin</th>\n",
       "      <th>Embarked</th>\n",
       "    </tr>\n",
       "    <tr>\n",
       "      <th>PassengerId</th>\n",
       "      <th></th>\n",
       "      <th></th>\n",
       "      <th></th>\n",
       "      <th></th>\n",
       "      <th></th>\n",
       "      <th></th>\n",
       "      <th></th>\n",
       "      <th></th>\n",
       "      <th></th>\n",
       "      <th></th>\n",
       "      <th></th>\n",
       "    </tr>\n",
       "  </thead>\n",
       "  <tbody>\n",
       "    <tr>\n",
       "      <th>1</th>\n",
       "      <td>0</td>\n",
       "      <td>3</td>\n",
       "      <td>Braund, Mr. Owen Harris</td>\n",
       "      <td>male</td>\n",
       "      <td>22.0</td>\n",
       "      <td>1</td>\n",
       "      <td>0</td>\n",
       "      <td>A/5 21171</td>\n",
       "      <td>7.2500</td>\n",
       "      <td>NaN</td>\n",
       "      <td>S</td>\n",
       "    </tr>\n",
       "    <tr>\n",
       "      <th>2</th>\n",
       "      <td>1</td>\n",
       "      <td>1</td>\n",
       "      <td>Cumings, Mrs. John Bradley (Florence Briggs Th...</td>\n",
       "      <td>female</td>\n",
       "      <td>38.0</td>\n",
       "      <td>1</td>\n",
       "      <td>0</td>\n",
       "      <td>PC 17599</td>\n",
       "      <td>71.2833</td>\n",
       "      <td>C85</td>\n",
       "      <td>C</td>\n",
       "    </tr>\n",
       "    <tr>\n",
       "      <th>3</th>\n",
       "      <td>1</td>\n",
       "      <td>3</td>\n",
       "      <td>Heikkinen, Miss. Laina</td>\n",
       "      <td>female</td>\n",
       "      <td>26.0</td>\n",
       "      <td>0</td>\n",
       "      <td>0</td>\n",
       "      <td>STON/O2. 3101282</td>\n",
       "      <td>7.9250</td>\n",
       "      <td>NaN</td>\n",
       "      <td>S</td>\n",
       "    </tr>\n",
       "    <tr>\n",
       "      <th>4</th>\n",
       "      <td>1</td>\n",
       "      <td>1</td>\n",
       "      <td>Futrelle, Mrs. Jacques Heath (Lily May Peel)</td>\n",
       "      <td>female</td>\n",
       "      <td>35.0</td>\n",
       "      <td>1</td>\n",
       "      <td>0</td>\n",
       "      <td>113803</td>\n",
       "      <td>53.1000</td>\n",
       "      <td>C123</td>\n",
       "      <td>S</td>\n",
       "    </tr>\n",
       "    <tr>\n",
       "      <th>5</th>\n",
       "      <td>0</td>\n",
       "      <td>3</td>\n",
       "      <td>Allen, Mr. William Henry</td>\n",
       "      <td>male</td>\n",
       "      <td>35.0</td>\n",
       "      <td>0</td>\n",
       "      <td>0</td>\n",
       "      <td>373450</td>\n",
       "      <td>8.0500</td>\n",
       "      <td>NaN</td>\n",
       "      <td>S</td>\n",
       "    </tr>\n",
       "  </tbody>\n",
       "</table>\n",
       "</div>"
      ],
      "text/plain": [
       "             Survived  Pclass  \\\n",
       "PassengerId                     \n",
       "1                   0       3   \n",
       "2                   1       1   \n",
       "3                   1       3   \n",
       "4                   1       1   \n",
       "5                   0       3   \n",
       "\n",
       "                                                          Name     Sex   Age  \\\n",
       "PassengerId                                                                    \n",
       "1                                      Braund, Mr. Owen Harris    male  22.0   \n",
       "2            Cumings, Mrs. John Bradley (Florence Briggs Th...  female  38.0   \n",
       "3                                       Heikkinen, Miss. Laina  female  26.0   \n",
       "4                 Futrelle, Mrs. Jacques Heath (Lily May Peel)  female  35.0   \n",
       "5                                     Allen, Mr. William Henry    male  35.0   \n",
       "\n",
       "             SibSp  Parch            Ticket     Fare Cabin Embarked  \n",
       "PassengerId                                                          \n",
       "1                1      0         A/5 21171   7.2500   NaN        S  \n",
       "2                1      0          PC 17599  71.2833   C85        C  \n",
       "3                0      0  STON/O2. 3101282   7.9250   NaN        S  \n",
       "4                1      0            113803  53.1000  C123        S  \n",
       "5                0      0            373450   8.0500   NaN        S  "
      ]
     },
     "execution_count": 2,
     "metadata": {},
     "output_type": "execute_result"
    }
   ],
   "source": [
    "train_data = pd.read_csv(\"/kaggle/input/titanic/train.csv\")\n",
    "train_data.set_index('PassengerId', inplace=True)\n",
    "test_data = pd.read_csv(\"/kaggle/input/titanic/test.csv\")\n",
    "test_data.set_index('PassengerId', inplace=True)\n",
    "train_data.head()"
   ]
  },
  {
   "cell_type": "code",
   "execution_count": 3,
   "id": "1f732d8d",
   "metadata": {
    "execution": {
     "iopub.execute_input": "2022-09-19T14:40:06.657393Z",
     "iopub.status.busy": "2022-09-19T14:40:06.656705Z",
     "iopub.status.idle": "2022-09-19T14:40:06.674158Z",
     "shell.execute_reply": "2022-09-19T14:40:06.672877Z"
    },
    "papermill": {
     "duration": 0.025598,
     "end_time": "2022-09-19T14:40:06.676880",
     "exception": false,
     "start_time": "2022-09-19T14:40:06.651282",
     "status": "completed"
    },
    "tags": []
   },
   "outputs": [
    {
     "data": {
      "text/html": [
       "<div>\n",
       "<style scoped>\n",
       "    .dataframe tbody tr th:only-of-type {\n",
       "        vertical-align: middle;\n",
       "    }\n",
       "\n",
       "    .dataframe tbody tr th {\n",
       "        vertical-align: top;\n",
       "    }\n",
       "\n",
       "    .dataframe thead th {\n",
       "        text-align: right;\n",
       "    }\n",
       "</style>\n",
       "<table border=\"1\" class=\"dataframe\">\n",
       "  <thead>\n",
       "    <tr style=\"text-align: right;\">\n",
       "      <th></th>\n",
       "      <th>Pclass</th>\n",
       "      <th>Name</th>\n",
       "      <th>Sex</th>\n",
       "      <th>Age</th>\n",
       "      <th>SibSp</th>\n",
       "      <th>Parch</th>\n",
       "      <th>Ticket</th>\n",
       "      <th>Fare</th>\n",
       "      <th>Cabin</th>\n",
       "      <th>Embarked</th>\n",
       "    </tr>\n",
       "    <tr>\n",
       "      <th>PassengerId</th>\n",
       "      <th></th>\n",
       "      <th></th>\n",
       "      <th></th>\n",
       "      <th></th>\n",
       "      <th></th>\n",
       "      <th></th>\n",
       "      <th></th>\n",
       "      <th></th>\n",
       "      <th></th>\n",
       "      <th></th>\n",
       "    </tr>\n",
       "  </thead>\n",
       "  <tbody>\n",
       "    <tr>\n",
       "      <th>892</th>\n",
       "      <td>3</td>\n",
       "      <td>Kelly, Mr. James</td>\n",
       "      <td>male</td>\n",
       "      <td>34.5</td>\n",
       "      <td>0</td>\n",
       "      <td>0</td>\n",
       "      <td>330911</td>\n",
       "      <td>7.8292</td>\n",
       "      <td>NaN</td>\n",
       "      <td>Q</td>\n",
       "    </tr>\n",
       "    <tr>\n",
       "      <th>893</th>\n",
       "      <td>3</td>\n",
       "      <td>Wilkes, Mrs. James (Ellen Needs)</td>\n",
       "      <td>female</td>\n",
       "      <td>47.0</td>\n",
       "      <td>1</td>\n",
       "      <td>0</td>\n",
       "      <td>363272</td>\n",
       "      <td>7.0000</td>\n",
       "      <td>NaN</td>\n",
       "      <td>S</td>\n",
       "    </tr>\n",
       "    <tr>\n",
       "      <th>894</th>\n",
       "      <td>2</td>\n",
       "      <td>Myles, Mr. Thomas Francis</td>\n",
       "      <td>male</td>\n",
       "      <td>62.0</td>\n",
       "      <td>0</td>\n",
       "      <td>0</td>\n",
       "      <td>240276</td>\n",
       "      <td>9.6875</td>\n",
       "      <td>NaN</td>\n",
       "      <td>Q</td>\n",
       "    </tr>\n",
       "    <tr>\n",
       "      <th>895</th>\n",
       "      <td>3</td>\n",
       "      <td>Wirz, Mr. Albert</td>\n",
       "      <td>male</td>\n",
       "      <td>27.0</td>\n",
       "      <td>0</td>\n",
       "      <td>0</td>\n",
       "      <td>315154</td>\n",
       "      <td>8.6625</td>\n",
       "      <td>NaN</td>\n",
       "      <td>S</td>\n",
       "    </tr>\n",
       "    <tr>\n",
       "      <th>896</th>\n",
       "      <td>3</td>\n",
       "      <td>Hirvonen, Mrs. Alexander (Helga E Lindqvist)</td>\n",
       "      <td>female</td>\n",
       "      <td>22.0</td>\n",
       "      <td>1</td>\n",
       "      <td>1</td>\n",
       "      <td>3101298</td>\n",
       "      <td>12.2875</td>\n",
       "      <td>NaN</td>\n",
       "      <td>S</td>\n",
       "    </tr>\n",
       "  </tbody>\n",
       "</table>\n",
       "</div>"
      ],
      "text/plain": [
       "             Pclass                                          Name     Sex  \\\n",
       "PassengerId                                                                 \n",
       "892               3                              Kelly, Mr. James    male   \n",
       "893               3              Wilkes, Mrs. James (Ellen Needs)  female   \n",
       "894               2                     Myles, Mr. Thomas Francis    male   \n",
       "895               3                              Wirz, Mr. Albert    male   \n",
       "896               3  Hirvonen, Mrs. Alexander (Helga E Lindqvist)  female   \n",
       "\n",
       "              Age  SibSp  Parch   Ticket     Fare Cabin Embarked  \n",
       "PassengerId                                                       \n",
       "892          34.5      0      0   330911   7.8292   NaN        Q  \n",
       "893          47.0      1      0   363272   7.0000   NaN        S  \n",
       "894          62.0      0      0   240276   9.6875   NaN        Q  \n",
       "895          27.0      0      0   315154   8.6625   NaN        S  \n",
       "896          22.0      1      1  3101298  12.2875   NaN        S  "
      ]
     },
     "execution_count": 3,
     "metadata": {},
     "output_type": "execute_result"
    }
   ],
   "source": [
    "test_data.head()"
   ]
  },
  {
   "cell_type": "code",
   "execution_count": 4,
   "id": "dbb8da34",
   "metadata": {
    "execution": {
     "iopub.execute_input": "2022-09-19T14:40:06.687088Z",
     "iopub.status.busy": "2022-09-19T14:40:06.686652Z",
     "iopub.status.idle": "2022-09-19T14:40:06.712207Z",
     "shell.execute_reply": "2022-09-19T14:40:06.711013Z"
    },
    "papermill": {
     "duration": 0.033834,
     "end_time": "2022-09-19T14:40:06.715034",
     "exception": false,
     "start_time": "2022-09-19T14:40:06.681200",
     "status": "completed"
    },
    "tags": []
   },
   "outputs": [],
   "source": [
    "import re\n",
    "\n",
    "def missing_age(df):\n",
    "    df['Title'] = [re.search(r'(.*\\,\\s)(.*)(\\..*)', name).group(2) for name in df.Name]\n",
    "    mask = (df.Age.isna())\n",
    "    df.loc[mask & (df.Title=='Master'), 'Age'] = 10\n",
    "    df.loc[mask & (df.Title=='Dr'), 'Age'] = 50\n",
    "    df.loc[mask & (df.Title=='Mr'), 'Age'] = 50\n",
    "    df.loc[mask & (df.Title=='Mrs'), 'Age'] = 50\n",
    "    df.loc[mask & (df.Title=='Miss'), 'Age'] = 10\n",
    "    df.loc[mask & (df.Title=='Ms'), 'Age'] = 50\n",
    "    return\n",
    "\n",
    "missing_age(train_data)\n",
    "missing_age(test_data)"
   ]
  },
  {
   "cell_type": "code",
   "execution_count": 5,
   "id": "fd318536",
   "metadata": {
    "execution": {
     "iopub.execute_input": "2022-09-19T14:40:06.727118Z",
     "iopub.status.busy": "2022-09-19T14:40:06.726697Z",
     "iopub.status.idle": "2022-09-19T14:40:07.838387Z",
     "shell.execute_reply": "2022-09-19T14:40:07.837395Z"
    },
    "papermill": {
     "duration": 1.120211,
     "end_time": "2022-09-19T14:40:07.841150",
     "exception": false,
     "start_time": "2022-09-19T14:40:06.720939",
     "status": "completed"
    },
    "tags": []
   },
   "outputs": [],
   "source": [
    "from sklearn.model_selection import train_test_split\n",
    "\n",
    "y = train_data[\"Survived\"]\n",
    "X_test, X_train, y_test, y_train = train_test_split(train_data, y)"
   ]
  },
  {
   "cell_type": "code",
   "execution_count": 6,
   "id": "3c009e19",
   "metadata": {
    "execution": {
     "iopub.execute_input": "2022-09-19T14:40:07.852992Z",
     "iopub.status.busy": "2022-09-19T14:40:07.852244Z",
     "iopub.status.idle": "2022-09-19T14:40:07.878982Z",
     "shell.execute_reply": "2022-09-19T14:40:07.877613Z"
    },
    "papermill": {
     "duration": 0.036003,
     "end_time": "2022-09-19T14:40:07.881940",
     "exception": false,
     "start_time": "2022-09-19T14:40:07.845937",
     "status": "completed"
    },
    "tags": []
   },
   "outputs": [],
   "source": [
    "features = [\"Pclass\", \"Sex\", \"Parch\", \"Age\"]\n",
    "X_train = pd.get_dummies(X_train[features])\n",
    "X_test = pd.get_dummies(X_test[features])\n",
    "test_data = pd.get_dummies(test_data[features])\n"
   ]
  },
  {
   "cell_type": "code",
   "execution_count": 7,
   "id": "c16db15c",
   "metadata": {
    "execution": {
     "iopub.execute_input": "2022-09-19T14:40:07.892997Z",
     "iopub.status.busy": "2022-09-19T14:40:07.892536Z",
     "iopub.status.idle": "2022-09-19T14:40:49.879384Z",
     "shell.execute_reply": "2022-09-19T14:40:49.877630Z"
    },
    "papermill": {
     "duration": 41.998058,
     "end_time": "2022-09-19T14:40:49.884509",
     "exception": false,
     "start_time": "2022-09-19T14:40:07.886451",
     "status": "completed"
    },
    "tags": []
   },
   "outputs": [
    {
     "name": "stdout",
     "output_type": "stream",
     "text": [
      "Fitting 3 folds for each of 9 candidates, totalling 27 fits\n"
     ]
    },
    {
     "name": "stderr",
     "output_type": "stream",
     "text": [
      "/opt/conda/lib/python3.7/site-packages/sklearn/model_selection/_search.py:296: UserWarning: The total space of parameters 9 is smaller than n_iter=100. Running 9 iterations. For exhaustive searches, use GridSearchCV.\n",
      "  UserWarning,\n"
     ]
    },
    {
     "data": {
      "text/plain": [
       "RandomizedSearchCV(cv=3, estimator=GradientBoostingClassifier(), n_iter=100,\n",
       "                   n_jobs=-1,\n",
       "                   param_distributions={'learning_rate': [0.001, 0.005, 0.01],\n",
       "                                        'n_estimators': [3000, 5000, 10000]},\n",
       "                   verbose=2)"
      ]
     },
     "execution_count": 7,
     "metadata": {},
     "output_type": "execute_result"
    }
   ],
   "source": [
    "from sklearn.model_selection import RandomizedSearchCV\n",
    "from sklearn.ensemble import GradientBoostingClassifier\n",
    "\n",
    "learning_rate = [0.001, 0.005, 0.01]\n",
    "n_estimators = [3000, 5000, 10000]\n",
    "subsample = [1]\n",
    "criterion = ['friedman_mse']\n",
    "\n",
    "random_grid = {\n",
    "               'learning_rate': learning_rate,\n",
    "               'n_estimators': n_estimators}\n",
    "\n",
    "# Use the random grid to search for best hyperparameters\n",
    "# First create the base model to tune\n",
    "# Random search of parameters, using 3 fold cross validation, \n",
    "# search across 100 different combinations, and use all available cores\n",
    "model_search = GradientBoostingClassifier()\n",
    "rf_random = RandomizedSearchCV(estimator = model_search,\n",
    "                               param_distributions = random_grid, n_iter = 100, cv = 3,\n",
    "                               verbose=2, n_jobs = -1)\n",
    "# Fit the random search model\n",
    "rf_random.fit(X_train, y_train)"
   ]
  },
  {
   "cell_type": "code",
   "execution_count": 8,
   "id": "118d8de3",
   "metadata": {
    "execution": {
     "iopub.execute_input": "2022-09-19T14:40:49.896512Z",
     "iopub.status.busy": "2022-09-19T14:40:49.896054Z",
     "iopub.status.idle": "2022-09-19T14:40:49.906418Z",
     "shell.execute_reply": "2022-09-19T14:40:49.904934Z"
    },
    "papermill": {
     "duration": 0.019666,
     "end_time": "2022-09-19T14:40:49.909048",
     "exception": false,
     "start_time": "2022-09-19T14:40:49.889382",
     "status": "completed"
    },
    "tags": []
   },
   "outputs": [
    {
     "data": {
      "text/plain": [
       "{'n_estimators': 3000, 'learning_rate': 0.001}"
      ]
     },
     "execution_count": 8,
     "metadata": {},
     "output_type": "execute_result"
    }
   ],
   "source": [
    "rf_random.best_params_"
   ]
  },
  {
   "cell_type": "code",
   "execution_count": 9,
   "id": "17eb8acd",
   "metadata": {
    "execution": {
     "iopub.execute_input": "2022-09-19T14:40:49.921724Z",
     "iopub.status.busy": "2022-09-19T14:40:49.921288Z",
     "iopub.status.idle": "2022-09-19T14:40:51.700579Z",
     "shell.execute_reply": "2022-09-19T14:40:51.698949Z"
    },
    "papermill": {
     "duration": 1.789694,
     "end_time": "2022-09-19T14:40:51.703860",
     "exception": false,
     "start_time": "2022-09-19T14:40:49.914166",
     "status": "completed"
    },
    "tags": []
   },
   "outputs": [
    {
     "name": "stdout",
     "output_type": "stream",
     "text": [
      "Train set accuracy: 0.9103139013452914\n",
      "Test set accuracy: 0.7604790419161677\n"
     ]
    }
   ],
   "source": [
    "from sklearn.metrics import accuracy_score\n",
    "\n",
    "best_random = rf_random.best_estimator_\n",
    "best_random.fit(X_train, y_train)\n",
    "predict_random = best_random.predict(X_test)\n",
    "random_accuracy = accuracy_score(predict_random, y_test)\n",
    "accuracy = accuracy_score(best_random.predict(X_train), y_train)\n",
    "print('Train set accuracy: ' + str(accuracy))\n",
    "print('Test set accuracy: ' + str(random_accuracy))"
   ]
  },
  {
   "cell_type": "code",
   "execution_count": 10,
   "id": "624365c3",
   "metadata": {
    "execution": {
     "iopub.execute_input": "2022-09-19T14:40:51.715976Z",
     "iopub.status.busy": "2022-09-19T14:40:51.715483Z",
     "iopub.status.idle": "2022-09-19T14:40:53.543335Z",
     "shell.execute_reply": "2022-09-19T14:40:53.541983Z"
    },
    "papermill": {
     "duration": 1.837083,
     "end_time": "2022-09-19T14:40:53.546229",
     "exception": false,
     "start_time": "2022-09-19T14:40:51.709146",
     "status": "completed"
    },
    "tags": []
   },
   "outputs": [
    {
     "name": "stdout",
     "output_type": "stream",
     "text": [
      "Train set accuracy: 0.8789237668161435\n",
      "Test set accuracy: 0.7844311377245509\n"
     ]
    }
   ],
   "source": [
    "base = GradientBoostingClassifier(n_estimators=3000, learning_rate=0.001, subsample=0.08)\n",
    "base.fit(X_train, y_train)\n",
    "predict = base.predict(X_test)\n",
    "random_accuracy = accuracy_score(predict, y_test)\n",
    "accuracy = accuracy_score(base.predict(X_train), y_train)\n",
    "print('Train set accuracy: ' + str(accuracy))\n",
    "print('Test set accuracy: ' + str(random_accuracy))"
   ]
  },
  {
   "cell_type": "code",
   "execution_count": 11,
   "id": "a0d60586",
   "metadata": {
    "execution": {
     "iopub.execute_input": "2022-09-19T14:40:53.557649Z",
     "iopub.status.busy": "2022-09-19T14:40:53.557251Z",
     "iopub.status.idle": "2022-09-19T14:40:53.595897Z",
     "shell.execute_reply": "2022-09-19T14:40:53.594325Z"
    },
    "papermill": {
     "duration": 0.047384,
     "end_time": "2022-09-19T14:40:53.598518",
     "exception": false,
     "start_time": "2022-09-19T14:40:53.551134",
     "status": "completed"
    },
    "tags": []
   },
   "outputs": [
    {
     "name": "stdout",
     "output_type": "stream",
     "text": [
      "Your submission was successfully saved!\n"
     ]
    }
   ],
   "source": [
    "predict = best_random.predict(test_data)\n",
    "output = pd.DataFrame({'PassengerId': test_data.index, 'Survived': predict})\n",
    "output.to_csv('submission.csv', index=False)\n",
    "print(\"Your submission was successfully saved!\")"
   ]
  }
 ],
 "metadata": {
  "kernelspec": {
   "display_name": "Python 3",
   "language": "python",
   "name": "python3"
  },
  "language_info": {
   "codemirror_mode": {
    "name": "ipython",
    "version": 3
   },
   "file_extension": ".py",
   "mimetype": "text/x-python",
   "name": "python",
   "nbconvert_exporter": "python",
   "pygments_lexer": "ipython3",
   "version": "3.7.12"
  },
  "papermill": {
   "default_parameters": {},
   "duration": 59.406937,
   "end_time": "2022-09-19T14:40:56.225194",
   "environment_variables": {},
   "exception": null,
   "input_path": "__notebook__.ipynb",
   "output_path": "__notebook__.ipynb",
   "parameters": {},
   "start_time": "2022-09-19T14:39:56.818257",
   "version": "2.3.4"
  }
 },
 "nbformat": 4,
 "nbformat_minor": 5
}
